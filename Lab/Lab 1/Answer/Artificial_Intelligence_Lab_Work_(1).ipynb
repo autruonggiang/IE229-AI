{
  "nbformat": 4,
  "nbformat_minor": 0,
  "metadata": {
    "colab": {
      "provenance": []
    },
    "kernelspec": {
      "name": "python3",
      "display_name": "Python 3"
    },
    "language_info": {
      "name": "python"
    }
  },
  "cells": [
    {
      "cell_type": "markdown",
      "source": [
        "問題 1 次の計算を行うプログラムを作成し、答えを求めよ。\n",
        "\n",
        "![mondai1.png](data:image/png;base64,iVBORw0KGgoAAAANSUhEUgAAAEMAAAA3CAIAAADYG2DzAAAAAXNSR0IArs4c6QAAAARnQU1BAACxjwv8YQUAAAAJcEhZcwAADsMAAA7DAcdvqGQAAATxSURBVGhD7Zl9TBNnGMBbsOASt5ZJMIKCGqYLVRjDDYemowPECX8IM27AoEgZLrJlYxvoJsvGmCMkfBRBilvEj305QIJQxWR286NaiwQiyFf4cCWjX4HSWRq4eBf2Fm6mcrW9Xt/DZuH3V+/J9dJf73me97l7GbP/F5ZMXI8lkzlQ3cCgDsMPACZV101Zt3oGPyQTsBKhCEWTIUmx4JVVAVmtj34BpmnKjhdW1okzIiIL5CYyASsRJ6BocknSM1S1M/D93/8zQQeKeaGHFcgsdr/09bX7WwiBaUKAeAp+LWpQzi5MK95lYTJ9QeDHFylBqpnqk3yiKgmBMUIAI0bwi1ECmklTmi+vZAQFnxpTVseKCQEtIUA8Bb8WNaibaKpjLbPr3jfhGz+8CjJltCKKm3OdEEAIAeIp+LWoQdHkcvlnSWHPe26IPZh/pn2uVFHlL2mvxR2qLEp/U3B6GPzP9gNWIk5A+Z5YAxkf6R8Zf9TOyASsRCgC1eSpsmTyGNh4t7Sl2QFaLneonWq5VoBigg5URHHcGAymRwDv7XdtkZwY+cJzbgw3r+QG59ZBIpCy6+HgiXgfNwbzmZC8awY8Zh1s/ML+gGWuawJ+oaohbd0yJpMVmNmstZk5iOyTTd4ubAKYlOZsXs5kuvvt/VFpa3GYkh4VlsmdWweJwDQBU0f7t9vZoAxWxhzrfYjHFgu4JqBgBmrizAXz7LaCNifHdAeBbWIumPpUc8Es35wjncRjiwF8E4B+vmBY69MboS8bT4QWEzOmO4URYOVwX51Qa57b6Yc2E3PJiHeDknHz4pd2w25UVqDRBJTMWF1qACiZFVu/lE/hMVJg+ptlqdHRwpOgA2K6q0XvvJEi7rNzZ2k1AeivfMwFJeMZlCsjP7kjbaW5IknZbu+gPFlPzb7ojK+LTtl9YUG3CSgYxZFQD3dfocTBpoypqmPY3B0JmWfJPYPRbmJqK9jGWS9ocLyJIYpD3BU7xWS/SLOJeYBhcz+6osePHUD/x+f8NV7BX9whOSzQaYKpG9M3cF79SuFgXiEPDIa+k6lvFV4sj+HwRX8Zu6TX7b9Bos8EHand4+sdJepxtAMbft7rww5MqOlD0P4SHts3hJ9U1m5/cqbLBOku4a/0Szx93/FVcWas63avbj6nUP1QZ6+GVNejx8R4Kz+MEyhs0izarEKLCTbRmv0iO/jTP20/PMIGugn297lkf05EIYnMhgtkE/OstcontqrPduvEdBcLDlTiB5CAajLd8d0OrzX7fjK/frfJ9KXMtf5Z+AEkoJkYruW9xN6YJbHc47LOg9asdR5c874JVOCYYNrmzEAWy58vOGCHrIyEMB8WkxVRPAj5qQWGCab+LcnPnclwAM9d30/g34YFFBON7KyozBHKq1r6Yb97gVrxJFm4ZQyHRTYxETeNYQHHxHDr+AdxoeGHbxj7T70XvkVQ/49Wfq6m2oIT5zsnQfe9S9g0hgYckxmddlJXmxASL8yp6tAbpxBMfePMY6VT8Wvb5HxCLdhqhQa87ELkuVtezu/AC3lKefe23ALFPRU+vri6ianzWHYiLzjtvBFFwUKBDtcdEaZbICyU4IPxgk1jaEAwwVQ/pGyNFFR2ahpSg7YnHzwqeeKuAzpK3DSGBYx7gkwolfq5rDKph0cN0PsrOeDVydNmycT1WDJxNWZn/wUk8I2F0hf8owAAAABJRU5ErkJggg==)"
      ],
      "metadata": {
        "id": "tyhh8J3PJ1LO"
      }
    },
    {
      "cell_type": "code",
      "execution_count": null,
      "metadata": {
        "colab": {
          "base_uri": "https://localhost:8080/"
        },
        "id": "0794Rc1_Jj7k",
        "outputId": "d5189b64-f88f-4ea7-8b8b-633ba30740d5"
      },
      "outputs": [
        {
          "output_type": "stream",
          "name": "stdout",
          "text": [
            "50005000\n"
          ]
        }
      ],
      "source": [
        "S = 0\n",
        "for i in range (1, 10000 + 1):\n",
        "    S += i\n",
        "print (S)"
      ]
    },
    {
      "cell_type": "markdown",
      "source": [
        "問題 2 次の計算を行うプログラムを作成し、答えを求めよ。\n",
        "\n",
        "![mondai2.png](data:image/png;base64,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)\n"
      ],
      "metadata": {
        "id": "MemcthxUL1dH"
      }
    },
    {
      "cell_type": "code",
      "source": [
        "S = 0\n",
        "for i in range (1, 100 + 1, 1):\n",
        "  S += (i ** 3 + 3 * i ** 2 + 5 * i + 9)\n",
        "print (S)"
      ],
      "metadata": {
        "colab": {
          "base_uri": "https://localhost:8080/"
        },
        "id": "B37IJRf-L7Gd",
        "outputId": "9252e7bf-ab92-4547-ddc1-660ae0c225a5"
      },
      "execution_count": null,
      "outputs": [
        {
          "output_type": "stream",
          "name": "stdout",
          "text": [
            "26543700\n"
          ]
        }
      ]
    },
    {
      "cell_type": "markdown",
      "source": [
        "問題 3 与えられたリストを逆順にして返す関数 reverse を作成せよ。\n",
        "\n",
        "![mondai3.png](data:image/png;base64,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)"
      ],
      "metadata": {
        "id": "BKyh-CClNOe5"
      }
    },
    {
      "cell_type": "code",
      "source": [
        "def reverse(xlist):\n",
        "  res = []\n",
        "  for i in xlist:\n",
        "    res = [i] + res\n",
        "  return res\n",
        "\n",
        "print(reverse([10, 20, 30, 40, 50]))"
      ],
      "metadata": {
        "colab": {
          "base_uri": "https://localhost:8080/"
        },
        "id": "NqRs0obmPHGb",
        "outputId": "c2dbb834-1c6d-4dcc-aaf4-bf2e802d1d26"
      },
      "execution_count": null,
      "outputs": [
        {
          "output_type": "stream",
          "name": "stdout",
          "text": [
            "[50, 40, 30, 20, 10]\n"
          ]
        }
      ]
    },
    {
      "cell_type": "code",
      "source": [
        "def reverse(xlist):\n",
        "  res = []\n",
        "  for i in xlist:\n",
        "    res = [i] + res\n",
        "  return res\n",
        "\n",
        "print(reverse([\"cat\", \"dog\", \"lion\", \"tiger\"]))"
      ],
      "metadata": {
        "colab": {
          "base_uri": "https://localhost:8080/"
        },
        "id": "4i_HPFsYS98s",
        "outputId": "67633986-58f6-4e8d-d61b-4b43a47d8f4d"
      },
      "execution_count": null,
      "outputs": [
        {
          "output_type": "stream",
          "name": "stdout",
          "text": [
            "['tiger', 'lion', 'dog', 'cat']\n"
          ]
        }
      ]
    }
  ]
}